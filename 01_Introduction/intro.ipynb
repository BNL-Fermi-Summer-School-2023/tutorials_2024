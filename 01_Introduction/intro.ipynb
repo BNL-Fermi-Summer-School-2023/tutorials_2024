{
 "cells": [
  {
   "cell_type": "markdown",
   "id": "f7bd5850",
   "metadata": {},
   "source": [
    "# Crash course: Programming / Python / Jupyter\n",
    "\n",
    "You can safely skip this part if you've used Python and Jupyter before.\n",
    "\n",
    "These tutorials will be Jupyter notebooks. They are intended to be run on Google Colab, but are self-contained and will run on your computer if you have Python and Jupyter installed.\n",
    "\n",
    "**Jupyter notebooks** are a convenient way to use Python (and other languages) interactively. Notebooks are organized into cells. Each cell has either code or text written in Markdown. This is a text cell. It's just for decoration.\n",
    "\n",
    "A notebook is an interface with a **Python kernel**, which is a program that waits in the background to run Python code. When you run a code cell, the notebook sends that code to the kernel. The kernel runs it, then goes back to waiting. The notebook shows you whatever outputs the kernel emits.\n",
    "\n",
    "**Notebooks aren't fixed or static.** You can/should edit cells, delete them, and make new ones. You can run cells more than once, and (in principle) in any order."
   ]
  },
  {
   "cell_type": "markdown",
   "id": "d67afbbd",
   "metadata": {},
   "source": [
    "## Variables\n",
    "\n",
    "The first line of the cell below tells the kernel to create a variable named `x` and assign to it the (integer) value `5`.\n",
    "\n",
    "The second line asks the kernel to evaluate the (very simple) expression `x+1`, which evaluates to (returns) `6`. Jupyter automatically writes out the value of the last expression evaluated. **Run the cell below and see what happens.**"
   ]
  },
  {
   "cell_type": "code",
   "execution_count": null,
   "id": "ba032d9e",
   "metadata": {},
   "outputs": [],
   "source": [
    "x = 5\n",
    "x+1"
   ]
  },
  {
   "cell_type": "markdown",
   "id": "e416396c",
   "metadata": {},
   "source": [
    "Variables can be overwritten by new values. **Run the cell below and see what happens.**"
   ]
  },
  {
   "cell_type": "code",
   "execution_count": null,
   "id": "1489ded4",
   "metadata": {},
   "outputs": [],
   "source": [
    "x = 7\n",
    "x"
   ]
  },
  {
   "cell_type": "markdown",
   "id": "828658ff",
   "metadata": {},
   "source": [
    "Unlike math language, variable names can be more than one symbol long. They can contain letters, numbers, and `_`, but can't start with a number.\n",
    "\n",
    "It's a good idea to give your variables descriptive names."
   ]
  },
  {
   "cell_type": "code",
   "execution_count": null,
   "id": "e9b46a9d",
   "metadata": {},
   "outputs": [],
   "source": [
    "a_long_variable_name_for_storing_12 = 12\n",
    "# 5x = 5*x not allowed"
   ]
  },
  {
   "cell_type": "markdown",
   "id": "4448ebd4",
   "metadata": {},
   "source": [
    "## Comments\n",
    "\n",
    "Comments are notes in the code that are ignored by the kernel. In Python, `#` marks the rest of the line as a comment.  **Try to guess the output, then run the cell below.**"
   ]
  },
  {
   "cell_type": "code",
   "execution_count": null,
   "id": "742ca6e7",
   "metadata": {},
   "outputs": [],
   "source": [
    "# x = 1\n",
    "x  # GUESS: what will the output be?"
   ]
  },
  {
   "cell_type": "markdown",
   "id": "2d7e3fad",
   "metadata": {},
   "source": [
    "## print\n",
    "\n",
    "The cell below calls the `print` function to write out the value of its argument. In this example, this is whatever the expression `x-1` evaluates to. `print` is useful if you want your cell to write out more than one thing.\n",
    "\n",
    "The kernel has a persistent state, i.e. it does not reset automatically between cells. The cell below does not set a value for `x`, it just writes out whatever it has been set to by previously executed code. **Run the cell below and see what happens.**"
   ]
  },
  {
   "cell_type": "code",
   "execution_count": null,
   "id": "34625cd3",
   "metadata": {},
   "outputs": [],
   "source": [
    "print(x-1)"
   ]
  },
  {
   "cell_type": "markdown",
   "id": "64d64e43",
   "metadata": {},
   "source": [
    "## Persistent state, exceptions"
   ]
  },
  {
   "cell_type": "markdown",
   "id": "7a8381b4",
   "metadata": {},
   "source": [
    "The kernel doesn't know what order the cells in the notebook are in. It just executes the code you send it by running cells. The kernel has a persistent state that \n",
    "\n",
    "**Run the cell below, then the cell above.** If you do this, what output will the cell above produce?"
   ]
  },
  {
   "cell_type": "code",
   "execution_count": null,
   "id": "88e73b70",
   "metadata": {},
   "outputs": [],
   "source": [
    "x = 11\n",
    "x-1"
   ]
  },
  {
   "cell_type": "markdown",
   "id": "20e819dc",
   "metadata": {},
   "source": [
    "Variables are created when you set their value for the first time. If you try to use a variable you haven't created, Python will throw an exception. Note that this stops execution immediately, but doesn't crash or reset the kernel.\n",
    "\n",
    "**Run the cell below to see what an exception looks like.**"
   ]
  },
  {
   "cell_type": "code",
   "execution_count": null,
   "id": "2ea00740",
   "metadata": {},
   "outputs": [],
   "source": [
    "print(z)\n",
    "print(\"This won't get printed\")"
   ]
  },
  {
   "cell_type": "markdown",
   "id": "85016486",
   "metadata": {},
   "source": [
    "## Basic Operators\n",
    "\n",
    "The cell below demonstrates various standard, built-in math operations. You've already seen `+` and `-`. **Warning:** the exponentiation operator is `**` not `^`. So, if you want to do $x^5$, write `x**5` not `x^5`.\n",
    "\n",
    "**Try to guess what the cells below will output before you run them.**"
   ]
  },
  {
   "cell_type": "code",
   "execution_count": null,
   "id": "7104b916",
   "metadata": {},
   "outputs": [],
   "source": [
    "x = 5\n",
    "x-1 # GUESS:"
   ]
  },
  {
   "cell_type": "code",
   "execution_count": null,
   "id": "6f2dace6",
   "metadata": {},
   "outputs": [],
   "source": [
    "x+1 # GUESS:"
   ]
  },
  {
   "cell_type": "code",
   "execution_count": null,
   "id": "823f60b8",
   "metadata": {},
   "outputs": [],
   "source": [
    "2*x # GUESS:"
   ]
  },
  {
   "cell_type": "code",
   "execution_count": null,
   "id": "36468ac5",
   "metadata": {},
   "outputs": [],
   "source": [
    "x**2 # GUESS:"
   ]
  },
  {
   "cell_type": "code",
   "execution_count": null,
   "id": "cdfc0bff",
   "metadata": {},
   "outputs": [],
   "source": [
    "x/5 # GUESS:"
   ]
  },
  {
   "cell_type": "code",
   "execution_count": null,
   "id": "67b4f49f",
   "metadata": {},
   "outputs": [],
   "source": [
    "# integer division\n",
    "x//2 # GUESS:"
   ]
  },
  {
   "cell_type": "code",
   "execution_count": null,
   "id": "9201540d",
   "metadata": {},
   "outputs": [],
   "source": [
    "# modulo = remainder of integer division\n",
    "x%2 # GUESS"
   ]
  },
  {
   "cell_type": "code",
   "execution_count": null,
   "id": "12e2d5b7",
   "metadata": {},
   "outputs": [],
   "source": [
    "x**(1/2) # GUESS:"
   ]
  },
  {
   "cell_type": "markdown",
   "id": "7e06242c",
   "metadata": {},
   "source": [
    "Variables in code are similar to variables in math but not exactly the same. When you set a variable, it just stores a value. It does not remember a relationship between variables to update them automatically.\n",
    "\n",
    "**Try to guess the output before you run the cell below.**"
   ]
  },
  {
   "cell_type": "code",
   "execution_count": null,
   "id": "0330667f",
   "metadata": {},
   "outputs": [],
   "source": [
    "x = 3\n",
    "y = 2*x + 1\n",
    "print(y) # GUESS:\n",
    "\n",
    "x = 4\n",
    "print(y) # GUESS:\n",
    "\n",
    "y = 2*x + 1\n",
    "print(y) # GUESS:"
   ]
  },
  {
   "cell_type": "markdown",
   "id": "4aeb5d3d",
   "metadata": {},
   "source": [
    "## (Data) types"
   ]
  },
  {
   "cell_type": "markdown",
   "id": "1898bd66",
   "metadata": {},
   "source": [
    "So far, we've mostly just seen numerical data. These have been of two different types: integers `int` and decimal numbers `float`. Decimal numbers are called `float` because they are stored in a specific format called \"floating point\".\n",
    "\n",
    "But there are many different data types we can store and operate on. You can always ask Python what something is using the `type` function."
   ]
  },
  {
   "cell_type": "code",
   "execution_count": null,
   "id": "4694dc7f",
   "metadata": {},
   "outputs": [],
   "source": [
    "print(type(5))\n",
    "x = 5\n",
    "print(type(x))\n",
    "\n",
    "print(x/2)\n",
    "print(type(x/2))"
   ]
  },
  {
   "cell_type": "markdown",
   "id": "c22ba317",
   "metadata": {},
   "source": [
    "## Strings\n",
    "\n",
    "You already saw some examples of `string`s above. `string`s are text data, called strings because they are \"strings\" (sequences) of characters (letters, numbers, and symbols). They look like `\"asdf\"` or `'asdf'` (these are exactly the same in Python).\n",
    "\n",
    "**Try to guess the outputs before you run the cells below.**"
   ]
  },
  {
   "cell_type": "code",
   "execution_count": null,
   "id": "bb0f0fe3",
   "metadata": {},
   "outputs": [],
   "source": [
    "print(\"hello world\")\n",
    "print(type(\"hello world\"))"
   ]
  },
  {
   "cell_type": "code",
   "execution_count": null,
   "id": "356f0140",
   "metadata": {},
   "outputs": [],
   "source": [
    "x = \"hello\"\n",
    "print(type(x))\n",
    "print(x, \"world\") # GUESS:\n",
    "y = 'world'\n",
    "print(x, y) # GUESS:"
   ]
  },
  {
   "cell_type": "code",
   "execution_count": null,
   "id": "0a219b3a",
   "metadata": {},
   "outputs": [],
   "source": [
    "# Certain operations work for strings too\n",
    "print(x+y) # GUESS:\n",
    "print(\"Repeat\"*3) # GUESS:"
   ]
  },
  {
   "cell_type": "markdown",
   "id": "5b640a81",
   "metadata": {},
   "source": [
    "Often, operations aren't defined between different data types. For example, numbers and strings can't be added together.\n",
    "\n",
    "**Run the cell below to see it throw an exception.**"
   ]
  },
  {
   "cell_type": "code",
   "execution_count": null,
   "id": "5edb12e6",
   "metadata": {},
   "outputs": [],
   "source": [
    "x = 5\n",
    "s = \"the value of x is \" + x\n",
    "print(s)"
   ]
  },
  {
   "cell_type": "markdown",
   "id": "1b043a97",
   "metadata": {},
   "source": [
    "However, you can get a string representation of any other object using the `str` function.\n",
    "\n",
    "**Try to guess the outputs before you run the cell below.**"
   ]
  },
  {
   "cell_type": "code",
   "execution_count": null,
   "id": "f0d019d7",
   "metadata": {},
   "outputs": [],
   "source": [
    "x = 5\n",
    "s = \"the value of x is \" + str(x)\n",
    "print(s) # GUESS:"
   ]
  },
  {
   "cell_type": "markdown",
   "id": "69ffbdaf",
   "metadata": {},
   "source": [
    "## In-place operations\n",
    "\n",
    "Python provides special syntax for in-place operations: you can think of `x += 5` as short for `x = x + 5`.\n",
    "\n",
    "(**WARNING:** For certain types these aren't exactly equivalent and have different side effects, but you won't need to worry about that for these tutorials.)\n",
    "\n",
    "**Try to guess the outputs before you run the cells below.**"
   ]
  },
  {
   "cell_type": "code",
   "execution_count": null,
   "id": "287dd74e",
   "metadata": {},
   "outputs": [],
   "source": [
    "x = 4\n",
    "x -= 1\n",
    "print(x) # GUESS:\n",
    "\n",
    "x = 4\n",
    "x *= 2.5\n",
    "print(x) # GUESS:\n",
    "\n",
    "x = 5\n",
    "x /= 2\n",
    "print(x) # GUESS:"
   ]
  },
  {
   "cell_type": "markdown",
   "id": "5776d86a",
   "metadata": {},
   "source": [
    "## Comparisons"
   ]
  },
  {
   "cell_type": "markdown",
   "id": "36a7a1e5",
   "metadata": {},
   "source": [
    "Python has comparison operators which evaluate to `True` or `False`, i.e. they return \"boolean\" values (type `bool`).\n",
    "\n",
    "**Note:** `=` sets a variable. `==` checks for equality. Don't get them mixed up!\n",
    "\n",
    "**Try to guess the outputs before you run the cells below.**"
   ]
  },
  {
   "cell_type": "code",
   "execution_count": null,
   "id": "4030fa7f",
   "metadata": {},
   "outputs": [],
   "source": [
    "print(1 == 1) # GUESS:\n",
    "print(1 == 2) # GUESS:\n",
    "print(1 == \"1\") # GUESS:\n",
    "print(\"1\" == \"1\") # GUESS:"
   ]
  },
  {
   "cell_type": "code",
   "execution_count": null,
   "id": "cb817fcf",
   "metadata": {},
   "outputs": [],
   "source": [
    "x = 5\n",
    "print(x == 5) # GUESS:\n",
    "print(x == 7) # GUESS:"
   ]
  },
  {
   "cell_type": "code",
   "execution_count": null,
   "id": "9e29483b",
   "metadata": {},
   "outputs": [],
   "source": [
    "print(x > 5) # GUESS:\n",
    "print(x >= 5) # GUESS:\n",
    "print(x < 6) # GUESS:"
   ]
  },
  {
   "cell_type": "code",
   "execution_count": null,
   "id": "303d18dc",
   "metadata": {},
   "outputs": [],
   "source": [
    "# != means \"not equal\"\n",
    "print(x != 5) # GUESS:\n",
    "print(x != 7) # GUESS:\n",
    "print(x != \"5\") # GUESS:"
   ]
  },
  {
   "cell_type": "markdown",
   "id": "95ee83ae",
   "metadata": {},
   "source": [
    "There are also the logical operations `and`, `or`, and `not`."
   ]
  },
  {
   "cell_type": "code",
   "execution_count": null,
   "id": "fd32da61",
   "metadata": {},
   "outputs": [],
   "source": [
    "x = 5\n",
    "y = \"asdf\"\n",
    "print(not (x == 5)) # GUESS:\n",
    "print((x == 5) and (y == \"asdf\")) # GUESS:\n",
    "print((x == 4) and (y == \"asdf\")) # GUESS:\n",
    "print((x == 4) or (y == \"asdf\")) # GUESS:"
   ]
  },
  {
   "cell_type": "code",
   "execution_count": null,
   "id": "f3826221",
   "metadata": {},
   "outputs": [],
   "source": [
    "print(((1+1 == 2) and (4/2 == 2)) or (1 == 0))"
   ]
  },
  {
   "cell_type": "markdown",
   "id": "256a0c3a",
   "metadata": {},
   "source": [
    "## Conditionals\n",
    "\n",
    "`if` statements let you run parts of the code under some conditions but not others. When the provided expression evaluates to `True`, the indented block below the `if` statement gets run. If `False`, it is skipped.\n",
    "\n",
    "**Try to guess the outputs before you run the cell below.**"
   ]
  },
  {
   "cell_type": "code",
   "execution_count": null,
   "id": "bb23413e",
   "metadata": {},
   "outputs": [],
   "source": [
    "x = 4\n",
    "\n",
    "if 1 == 0:\n",
    "    x = 5\n",
    "print(x) # GUESS\n",
    "\n",
    "if x > 0:\n",
    "    x = 12\n",
    "print(x) # GUESS:"
   ]
  },
  {
   "cell_type": "markdown",
   "id": "17cc128b",
   "metadata": {},
   "source": [
    "`elif` lets you choose between multiple options for code to run. The first condition that is satisfied is the one that runs. `else` runs if nothing else did.\n",
    "\n",
    "**Try to guess the outputs before you run the cell below.**"
   ]
  },
  {
   "cell_type": "code",
   "execution_count": null,
   "id": "063964fb",
   "metadata": {},
   "outputs": [],
   "source": [
    "x = 3\n",
    "\n",
    "if x < 0:\n",
    "    print(\"a\")\n",
    "else:\n",
    "    print(\"b\")\n",
    "# GUESS:\n",
    "\n",
    "if x-1 == 0:\n",
    "    print(\"c\")\n",
    "elif x/3 == 1:\n",
    "    print(\"d\")\n",
    "elif x == 3:\n",
    "    print(\"e\")\n",
    "else:\n",
    "    print(\"f\")\n",
    "# GUESS:"
   ]
  },
  {
   "cell_type": "markdown",
   "id": "6ea6c472",
   "metadata": {},
   "source": [
    "## while loops\n",
    "\n",
    "Loops run the same block of code multiple times. A `while` is like an `if` except it repeats, jumping back to the beginning and running the code block until the provided expression is `False`.\n",
    "\n",
    "**Run the code below and see what happens.**"
   ]
  },
  {
   "cell_type": "code",
   "execution_count": null,
   "id": "00fd81ba",
   "metadata": {},
   "outputs": [],
   "source": [
    "x = 0\n",
    "while x < 2:\n",
    "    print(x)\n",
    "    x = x + 1\n",
    "print(\"Final:\", x)"
   ]
  },
  {
   "cell_type": "code",
   "execution_count": null,
   "id": "bf11b1ff",
   "metadata": {},
   "outputs": [],
   "source": [
    "x = \"hi\"\n",
    "while x != \"hiiii\":\n",
    "    print(x)\n",
    "    x += \"i\"\n",
    "print(x)"
   ]
  },
  {
   "cell_type": "markdown",
   "id": "a91b0f5b",
   "metadata": {},
   "source": [
    "**Try to guess the output before you run the cell below.**"
   ]
  },
  {
   "cell_type": "code",
   "execution_count": null,
   "id": "cdd9c08c",
   "metadata": {},
   "outputs": [],
   "source": [
    "n_2s = 0\n",
    "y = 1\n",
    "while n_2s < 4:\n",
    "    y *= 2\n",
    "    n_2s += 1\n",
    "print(n_2s) # GUESS:\n",
    "print(y) # GUESS:"
   ]
  },
  {
   "cell_type": "markdown",
   "id": "adf24e3a",
   "metadata": {},
   "source": [
    "## Basic Collections\n",
    "\n",
    "Collections store multiple objects together, organized in different ways. There are three standard, built-in kinds of collections you'll need to know about:\n",
    "* Linked lists (`list`, `[...]`)\n",
    "* Tuples (`tuple`, `(...,)`)\n",
    "* Dictionaries (`dict`, `{... : ...}`)"
   ]
  },
  {
   "cell_type": "markdown",
   "id": "75c86868",
   "metadata": {},
   "source": [
    "### Lists and indexing\n",
    "\n",
    "Linked lists store objects in some specific order. In Python, they are denoted with square brackets `[]` with commas separating the values. They can store objects of multiple different types."
   ]
  },
  {
   "cell_type": "code",
   "execution_count": null,
   "id": "b286437e",
   "metadata": {},
   "outputs": [],
   "source": [
    "L = [5, 6, \"hi\"]\n",
    "L"
   ]
  },
  {
   "cell_type": "markdown",
   "id": "08c92bb0",
   "metadata": {},
   "source": [
    "We can access specific items in lists by indexing into them using the notation `L[i]` where `i` is the integer index of the desired element. **Warning:** Don't get these square brackets confused for the ones to specify a list, they're just a different use of the same symbols.\n",
    "\n",
    "Python is a \"zero-indexed\" language, which means `L[0]` gets the first item in a list (or any other ordered collection).\n",
    "\n",
    "**Try to guess the outputs before you run the cell below.**"
   ]
  },
  {
   "cell_type": "code",
   "execution_count": null,
   "id": "788274dc",
   "metadata": {},
   "outputs": [],
   "source": [
    "L = [1,2,3,5,7]\n",
    "print(L[0]) # GUESS:\n",
    "print(L[3]) # GUESS:"
   ]
  },
  {
   "cell_type": "markdown",
   "id": "3da10e77",
   "metadata": {},
   "source": [
    "Conveniently, indices can be negative numbers. `-1` means the last element, `-2` means the second-to-last, etc."
   ]
  },
  {
   "cell_type": "code",
   "execution_count": null,
   "id": "7f79d2e2",
   "metadata": {},
   "outputs": [],
   "source": [
    "L = [5,7,9]\n",
    "print(L[-1]) # GUESS:\n",
    "print(L[-3]) # GUESS:"
   ]
  },
  {
   "cell_type": "markdown",
   "id": "bcd8ac01",
   "metadata": {},
   "source": [
    "**Lists are mutable.** Items can be added and removed from the same list, without making a new replacement list.\n",
    "\n",
    "**Try to guess the outputs before you run the cells below.**"
   ]
  },
  {
   "cell_type": "code",
   "execution_count": null,
   "id": "98a5f54b",
   "metadata": {},
   "outputs": [],
   "source": [
    "L = [] # empty list\n",
    "L.append(5)\n",
    "print(x) # GUESS:\n",
    "\n",
    "L = [1,2,3]\n",
    "L.remove(1)\n",
    "print(L) # GUESS:"
   ]
  },
  {
   "cell_type": "code",
   "execution_count": null,
   "id": "37849305",
   "metadata": {},
   "outputs": [],
   "source": [
    "# lists can be nested inside each other\n",
    "L = [\"a\", \"b\", [\"c\", \"d\"]]\n",
    "L[2].append(5)\n",
    "print(L) # GUESS:"
   ]
  },
  {
   "cell_type": "code",
   "execution_count": null,
   "id": "7f2a3aa3",
   "metadata": {},
   "outputs": [],
   "source": [
    "x = 5\n",
    "L = [x, x+1, x+2]\n",
    "print(L) # GUESS:\n",
    "x = 7\n",
    "print(L) # GUESS:"
   ]
  },
  {
   "cell_type": "code",
   "execution_count": null,
   "id": "49d61487",
   "metadata": {},
   "outputs": [],
   "source": [
    "# CHALLENGE:\n",
    "L_inner = [3]\n",
    "L = [[3], L_inner, L_inner]\n",
    "print(L) # GUESS:\n",
    "L_inner.append(5)\n",
    "print(L) # GUESS:"
   ]
  },
  {
   "cell_type": "markdown",
   "id": "4f0643f1",
   "metadata": {},
   "source": [
    "Some standard math-looking operators are defined for lists.\n",
    "\n",
    "**Try to guess the outputs before you run the cells below.**"
   ]
  },
  {
   "cell_type": "code",
   "execution_count": null,
   "id": "53b49bc4",
   "metadata": {},
   "outputs": [],
   "source": [
    "L1 = [1]\n",
    "L2 = [2]\n",
    "print(L1 + L2) # GUESS:\n",
    "print(3*L1) # GUESS:\n",
    "L1 += [5]\n",
    "print(L1) # GUESS:"
   ]
  },
  {
   "cell_type": "markdown",
   "id": "dae63483",
   "metadata": {},
   "source": [
    "### Tuples\n",
    "\n",
    "`tuple`s are like lists, but denoted with `()` instead of `[]`. Unlike lists, `tuple`s are immutable, meaning they can't be changed once they've been created."
   ]
  },
  {
   "cell_type": "code",
   "execution_count": null,
   "id": "b7ef492f",
   "metadata": {},
   "outputs": [],
   "source": [
    "x1 = (1,1,2,3,5)\n",
    "print(x1[4]) # GUESS:\n",
    "\n",
    "# x1.append(8) not allowed\n",
    "\n",
    "x2 = (8,13)\n",
    "x3 = x1 + x2\n",
    "print(x3) # GUESS:"
   ]
  },
  {
   "cell_type": "markdown",
   "id": "43874ff9",
   "metadata": {},
   "source": [
    "Tuples have special syntax in Python. Whenever a comma-separated list of values of occurs, it is a tuple."
   ]
  },
  {
   "cell_type": "code",
   "execution_count": null,
   "id": "1b377a65",
   "metadata": {},
   "outputs": [],
   "source": [
    "x = 1,2,3\n",
    "print(x)"
   ]
  },
  {
   "cell_type": "markdown",
   "id": "a1f23e12",
   "metadata": {},
   "source": [
    "Comparisons like `==` and `!=` are defined for `tuple`s but not `list`s."
   ]
  },
  {
   "cell_type": "code",
   "execution_count": null,
   "id": "2ca9d973",
   "metadata": {},
   "outputs": [],
   "source": [
    "L1 = [4]\n",
    "L2 = [4]\n",
    "# print(L1 == L2) # not allowed, throws exception\n",
    "\n",
    "L1 = (4,)\n",
    "L2 = (4,)\n",
    "print(L1 == L2) # GUESS:\n",
    "L2 = (4,4)\n",
    "print(L1 == L2) # GUESS:"
   ]
  },
  {
   "cell_type": "markdown",
   "id": "301afc6f",
   "metadata": {},
   "source": [
    "### Slicing\n",
    "\n",
    "Python has convenient \"slicing\" notation, `L[start_index:end_index]` to grab ranges out of lists and tuples. For some `L`,\n",
    "* `L[:4]` gets the first 4 elements\n",
    "* `L[1:4]` gets the 2nd through 3rd element\n",
    "* `L[-3:]` gets the last 3 elements\n",
    "\n",
    "Note that slices include the start index, but not the end index!\n",
    "\n",
    "**Try to guess the outputs before running the cells below.**"
   ]
  },
  {
   "cell_type": "code",
   "execution_count": null,
   "id": "37078f8c",
   "metadata": {},
   "outputs": [],
   "source": [
    "L = [0,1,2,3,4,5]\n",
    "print(L[:2]) # GUESS:\n",
    "print(L[1:4]) # GUESS:\n",
    "print(L[-2:]) # GUESS:"
   ]
  },
  {
   "cell_type": "code",
   "execution_count": null,
   "id": "d548357e",
   "metadata": {},
   "outputs": [],
   "source": [
    "L = (0,1,2,3)\n",
    "print(L[:3] + L[-3:]) # GUESS:"
   ]
  },
  {
   "cell_type": "markdown",
   "id": "dcc471fb",
   "metadata": {},
   "source": [
    "Note that slicing works on strings too!\n",
    "\n",
    "**Try to guess the outputs before running the cell below.**"
   ]
  },
  {
   "cell_type": "code",
   "execution_count": null,
   "id": "0e426d1a",
   "metadata": {},
   "outputs": [],
   "source": [
    "long_str = \"the quick brown fox jumps over the lazy dog\"\n",
    "trimmed_str = long_str[4:9]\n",
    "trimmed_str"
   ]
  },
  {
   "cell_type": "markdown",
   "id": "8ddfb6b8",
   "metadata": {},
   "source": [
    "## for loops\n",
    "\n",
    "`for` loops are more sophisticated than `while` loops, but more useful and easier to use. A `for` loop looks like\n",
    "```python\n",
    "for x in some_collection:\n",
    "    ...\n",
    "```\n",
    "For each object in `some_collection`, `x` is set to that object, then the block of code is run. (It's useful to think about them as \"for each\" loops.)\n",
    "\n",
    "**Run the cells below and see what happens.**"
   ]
  },
  {
   "cell_type": "code",
   "execution_count": null,
   "id": "8966aba2",
   "metadata": {},
   "outputs": [],
   "source": [
    "for x in [1,2,7,9]:\n",
    "    print(x)"
   ]
  },
  {
   "cell_type": "code",
   "execution_count": null,
   "id": "c8db8b4c",
   "metadata": {},
   "outputs": [],
   "source": [
    "for name in [\"Alice\", \"Bob\", \"Charlie\"]:\n",
    "    print(\"Hello\", name)"
   ]
  },
  {
   "cell_type": "markdown",
   "id": "9423a0cb",
   "metadata": {},
   "source": [
    "**Try to guess the outputs before you run the cells below.**"
   ]
  },
  {
   "cell_type": "code",
   "execution_count": null,
   "id": "c8df3d36",
   "metadata": {},
   "outputs": [],
   "source": [
    "total = 0\n",
    "for x in [3,5,7]:\n",
    "    total += x\n",
    "print(total) # GUESS:"
   ]
  },
  {
   "cell_type": "code",
   "execution_count": null,
   "id": "d1d400e4",
   "metadata": {},
   "outputs": [],
   "source": [
    "# CHALLENGE\n",
    "L = [(1,2), (3,4), (5,6)]\n",
    "for x,y in L: # \"unpacking\" syntax\n",
    "    print(x+y)\n",
    "# GUESS:"
   ]
  },
  {
   "cell_type": "markdown",
   "id": "3c46a62c",
   "metadata": {},
   "source": [
    "`for` loops are often used with the `range` function, which gives an easy way to specify a contiguous range of integers. `range(3)` means `0,1,2`; note that the endpoint is not included. `range(1,3)` means `1,2`.\n",
    "\n",
    "**Try to guess the outputs before you run the cells below.**"
   ]
  },
  {
   "cell_type": "code",
   "execution_count": null,
   "id": "5dedcfff",
   "metadata": {},
   "outputs": [],
   "source": [
    "total = 0\n",
    "for x in range(4):\n",
    "    total += x\n",
    "print(total) # GUESS:"
   ]
  },
  {
   "cell_type": "code",
   "execution_count": null,
   "id": "576e2af5",
   "metadata": {},
   "outputs": [],
   "source": [
    "four_factorial = 1\n",
    "for x in range(1,5):\n",
    "    four_factorial *= x\n",
    "print(four_factorial) # GUESS:"
   ]
  },
  {
   "cell_type": "markdown",
   "id": "26eed44b",
   "metadata": {},
   "source": [
    "## Functions\n",
    "\n",
    "We have already seen a few examples of functions: `print`, `type`, `range`.  Functions aren't exactly the same in code as in math. Like functions in math, they can evaluate to (return) a value which depends on their arguments. Unlike in math, they can also have \"side effects\". \n",
    "\n",
    "For example,\n",
    "* `print` returns the special value `None` (which Jupyter doesn't write out anything for). It has the side effect of writing output.\n",
    "* `type` returns the type of the object.\n",
    "* `range` returns a special `range` object which can be iterated over by loops.\n",
    "\n",
    "These are built-in functions that are loaded by default (and there are many others). However, it's easy to define your own functions in Python. You can (and should!) use this to avoid copy-pasting whole blocks of code with only a few changes.\n",
    "\n",
    "The code \"inside\" a function is an indented block, just like with `if`, `while`, and `for`. This code runs whenever you call the function.\n",
    "\n",
    "**Run the cell below and see what happens.**"
   ]
  },
  {
   "cell_type": "code",
   "execution_count": null,
   "id": "d2b81aef",
   "metadata": {},
   "outputs": [],
   "source": [
    "def multiply(a,b):\n",
    "    y = a*b\n",
    "    print(a,'*',b,'=',y) # side effect\n",
    "    return y # return value\n",
    "print(multiply(2,4))\n",
    "print(multiply(9,7))"
   ]
  },
  {
   "cell_type": "markdown",
   "id": "7bb360bf",
   "metadata": {},
   "source": [
    "The `return` statement determines what the function evaluates to, and ends function execution.\n",
    "\n",
    "**Try to guess the output before you run the cell below.**"
   ]
  },
  {
   "cell_type": "code",
   "execution_count": null,
   "id": "e470c894",
   "metadata": {},
   "outputs": [],
   "source": [
    "def multiply(a,b): # overwrite previous definition\n",
    "    y = a*b\n",
    "    print(a,'*',b,'=',y) # side effect\n",
    "    return y\n",
    "    print(\"Does this get printed?\") # GUESS:\n",
    "multiply(2,3)"
   ]
  },
  {
   "cell_type": "markdown",
   "id": "bb27f6f2",
   "metadata": {},
   "source": [
    "If no `return` statement is run before the function reaches its end, it returns the special value `None` by default.\n",
    "\n",
    "**Run the cell below and see what happens.**"
   ]
  },
  {
   "cell_type": "code",
   "execution_count": null,
   "id": "77ee364a",
   "metadata": {},
   "outputs": [],
   "source": [
    "def multiply_and_print(a,b):\n",
    "    y = a*b\n",
    "    print(y)\n",
    "print(multiply_and_print(5,7))"
   ]
  },
  {
   "cell_type": "markdown",
   "id": "fb31ad38",
   "metadata": {},
   "source": [
    "A function can return multiple values by returning a tuple. This tuple can be immediately \"unpacked\" into different variables."
   ]
  },
  {
   "cell_type": "code",
   "execution_count": null,
   "id": "6fc01616",
   "metadata": {},
   "outputs": [],
   "source": [
    "def returns_a_tuple():\n",
    "    return 1,2,3\n",
    "x,y,z = returns_a_tuple()\n",
    "print(y) # GUESS:\n",
    "print(x,y,z)"
   ]
  },
  {
   "cell_type": "markdown",
   "id": "47fc7323",
   "metadata": {},
   "source": [
    "Entire sub-programs can be put in functions, including `if`s, `while` and `for` loops (and even nested function definitions!)."
   ]
  },
  {
   "cell_type": "code",
   "execution_count": null,
   "id": "37e98a8c",
   "metadata": {},
   "outputs": [],
   "source": [
    "def is_positive(x):\n",
    "    if x > 0:\n",
    "        return True\n",
    "    else:\n",
    "        return False\n",
    "is_positive(-1)"
   ]
  },
  {
   "cell_type": "markdown",
   "id": "c01bfe44",
   "metadata": {},
   "source": [
    "If a variable is defined inside a function, it only exists in the **scope** of that function. That means it is forgotten once the function exits.\n",
    "\n",
    "**Try to guess the output before you run the cell below.**"
   ]
  },
  {
   "cell_type": "code",
   "execution_count": null,
   "id": "449ba50d",
   "metadata": {},
   "outputs": [],
   "source": [
    "def f(x):\n",
    "    only_exists_inside_f = x + 1\n",
    "    return only_exists_inside_f\n",
    "print(f(5))\n",
    "print(only_exists_inside_f) # GUESS:"
   ]
  },
  {
   "cell_type": "markdown",
   "id": "98834b58",
   "metadata": {},
   "source": [
    "Variables that exist outside a function can be accessed from inside it. However, if you try to change the value of that variable, it will instead define a new, temporary variable that only exists inside the function.\n",
    "\n",
    "**Try to guess the output before you run the cell below.**"
   ]
  },
  {
   "cell_type": "code",
   "execution_count": null,
   "id": "ff371ee6",
   "metadata": {},
   "outputs": [],
   "source": [
    "y = 5\n",
    "def f(x):\n",
    "    return y+x\n",
    "print(f(4)) # GUESS:\n",
    "\n",
    "def f(x):\n",
    "    y = 7\n",
    "    return x+y\n",
    "print(f(4)) # GUESS:\n",
    "print(y) # GUESS:"
   ]
  },
  {
   "cell_type": "markdown",
   "id": "9847a55c",
   "metadata": {},
   "source": [
    "Arguments can be given to function positionally (i.e. in a specific order), or as keyword arguments. Sometimes arguments can only be specified positionally or as keywords, but usually you can choose. (When in doubt about the right argument order, provide arguments as keywords!)\n",
    "\n",
    "**Try to guess the output before you run the cell below.**"
   ]
  },
  {
   "cell_type": "code",
   "execution_count": null,
   "id": "f8a50269",
   "metadata": {},
   "outputs": [],
   "source": [
    "def affine(x,a,b):\n",
    "    return a*x + b\n",
    "print(affine(1,2,3)) # GUESS:\n",
    "print(affine(1, a=2, b=3)) # GUESS:\n",
    "print(affine(1, b=3, a=2)) # GUESS:"
   ]
  },
  {
   "cell_type": "markdown",
   "id": "47be245e",
   "metadata": {},
   "source": [
    "## NumPy\n",
    "\n",
    "NumPy is a standard library (like an add-on) for efficiently manipulating arrays of numbers. It isn't a built-in part of Python, but it might as well be.\n",
    "\n",
    "Because NumPy isn't built-in, to use it we have to first `import` it. It is completely standard to `import numpy as np`, which gives the module (i.e. collection of functions) a convenient short alias `np`."
   ]
  },
  {
   "cell_type": "code",
   "execution_count": null,
   "id": "405de49d",
   "metadata": {},
   "outputs": [],
   "source": [
    "import numpy as np # run to import numpy"
   ]
  },
  {
   "cell_type": "markdown",
   "id": "7780797e",
   "metadata": {},
   "source": [
    "### Arrays & array operations"
   ]
  },
  {
   "cell_type": "markdown",
   "id": "13f5ba42",
   "metadata": {},
   "source": [
    "The basic object in NumPy is the NumPy array (`np.ndarray`). All NumPy operations are about manipulating such arrays. We can instantiate one by (e.g.) passing a list of numbers to the `np.array` function.\n",
    "\n",
    "Note the `.` notation. `np.array(...)` means, call the function `array` that lives inside `np`."
   ]
  },
  {
   "cell_type": "code",
   "execution_count": null,
   "id": "591a55bf",
   "metadata": {},
   "outputs": [],
   "source": [
    "v = np.array([1, 2, 3, 4, 5])\n",
    "print(v)"
   ]
  },
  {
   "cell_type": "markdown",
   "id": "73ea62f6",
   "metadata": {},
   "source": [
    "Arrays can be sliced just like lists:"
   ]
  },
  {
   "cell_type": "code",
   "execution_count": null,
   "id": "2b459a73",
   "metadata": {},
   "outputs": [],
   "source": [
    "print(v[2:4])"
   ]
  },
  {
   "cell_type": "markdown",
   "id": "71216852",
   "metadata": {},
   "source": [
    "A useful way to think of NumPy arrays is like vectors in math. Basic math operations are defined for arrays. They usually mean \"do this operation elementwise\", i.e. on each number in the array.\n",
    "\n",
    "**Try to guess the outputs before running the cell below.**"
   ]
  },
  {
   "cell_type": "code",
   "execution_count": null,
   "id": "10872923",
   "metadata": {},
   "outputs": [],
   "source": [
    "v = np.array([1, 2, 3])\n",
    "print(v+1) # GUESS:"
   ]
  },
  {
   "cell_type": "code",
   "execution_count": null,
   "id": "16bc5180",
   "metadata": {},
   "outputs": [],
   "source": [
    "print(2*v) # GUESS:"
   ]
  },
  {
   "cell_type": "code",
   "execution_count": null,
   "id": "ab47deaf",
   "metadata": {},
   "outputs": [],
   "source": [
    "print(v**2) # GUESS:"
   ]
  },
  {
   "cell_type": "code",
   "execution_count": null,
   "id": "e459c52e",
   "metadata": {},
   "outputs": [],
   "source": [
    "print(1/v) # GUESS:"
   ]
  },
  {
   "cell_type": "markdown",
   "id": "172f4c79",
   "metadata": {},
   "source": [
    "Math operations are also defined for multiple arrays. Again, these operations are usually defined elementwise, i.e., on the corresponding numbers from each array.\n",
    "\n",
    "**Try to guess the outputs before running the cell below.**"
   ]
  },
  {
   "cell_type": "code",
   "execution_count": null,
   "id": "8bcc90a6",
   "metadata": {},
   "outputs": [],
   "source": [
    "v1 = np.array([1,2,3])\n",
    "v2 = np.array([4,5,6])\n",
    "\n",
    "print(v1+v2) # GUESS:"
   ]
  },
  {
   "cell_type": "code",
   "execution_count": null,
   "id": "663d0982",
   "metadata": {},
   "outputs": [],
   "source": [
    "print(v2/v1) # GUESS:"
   ]
  },
  {
   "cell_type": "code",
   "execution_count": null,
   "id": "4af5dde5",
   "metadata": {},
   "outputs": [],
   "source": [
    "print(v2**v1) # GUESS:"
   ]
  },
  {
   "cell_type": "markdown",
   "id": "1d68892e",
   "metadata": {},
   "source": [
    "### Multidimensional arrays\n",
    "\n",
    "NumPy arrays can also be \"multidimensional\". For example, a matrix is a two-dimensional array.  (If you're familiar with index notation, each index is a different \"dimension\".)\n",
    "\n",
    "**Run the cell\n",
    "below to see what happens.**"
   ]
  },
  {
   "cell_type": "code",
   "execution_count": null,
   "id": "5dfb4aa7",
   "metadata": {},
   "outputs": [],
   "source": [
    "M1 = np.array([[1,2],[3,4]])\n",
    "print(M1)"
   ]
  },
  {
   "cell_type": "markdown",
   "id": "16fbcec2",
   "metadata": {},
   "source": [
    "NumPy arrays can be indexed (and sliced!) simultaneously along multiple dimensions."
   ]
  },
  {
   "cell_type": "code",
   "execution_count": null,
   "id": "19920ecc",
   "metadata": {},
   "outputs": [],
   "source": [
    "M = np.array(np.arange(12))\n",
    "M = np.reshape(M, (3,4))\n",
    "print(M)"
   ]
  },
  {
   "cell_type": "markdown",
   "id": "6914c399",
   "metadata": {},
   "source": [
    "**Try to guess the outputs before running the cells below.**"
   ]
  },
  {
   "cell_type": "code",
   "execution_count": null,
   "id": "9d21ce86",
   "metadata": {},
   "outputs": [],
   "source": [
    "print(M[0,1]) # GUESS:"
   ]
  },
  {
   "cell_type": "code",
   "execution_count": null,
   "id": "c7b8fc5f",
   "metadata": {},
   "outputs": [],
   "source": [
    "print(M[2,2]) # GUESS:"
   ]
  },
  {
   "cell_type": "code",
   "execution_count": null,
   "id": "9d990527",
   "metadata": {},
   "outputs": [],
   "source": [
    "print(M[:2]) # GUESS:"
   ]
  },
  {
   "cell_type": "code",
   "execution_count": null,
   "id": "718da2e1",
   "metadata": {},
   "outputs": [],
   "source": [
    "print(M[1:3,:2]) # GUESS:"
   ]
  },
  {
   "cell_type": "code",
   "execution_count": null,
   "id": "36ca700c",
   "metadata": {},
   "outputs": [],
   "source": [
    "# just : alone means \"take the whole axis\"\n",
    "print(M[:, 1])"
   ]
  },
  {
   "cell_type": "markdown",
   "id": "bfbf47ac",
   "metadata": {},
   "source": [
    "Standard math operations involving multi-dimensional arrays are also usually defined elementwise.\n",
    "\n",
    "**Try to guess the outputs before running the cells below.**"
   ]
  },
  {
   "cell_type": "code",
   "execution_count": null,
   "id": "25c6f83e",
   "metadata": {},
   "outputs": [],
   "source": [
    "M1 = np.array([[1,2],[3,4]])\n",
    "M2 = np.array([[5,6],[7,8]])\n",
    "print(M1+M2) # GUESS"
   ]
  },
  {
   "cell_type": "code",
   "execution_count": null,
   "id": "4583cf32",
   "metadata": {},
   "outputs": [],
   "source": [
    "print(M1*M2) # GUESS"
   ]
  },
  {
   "cell_type": "markdown",
   "id": "a452ac11",
   "metadata": {},
   "source": [
    "Arrays can be `reshape`d to change their dimensions.\n",
    "\n",
    "**Run the cell below to see what happens.**"
   ]
  },
  {
   "cell_type": "code",
   "execution_count": null,
   "id": "51e2c594",
   "metadata": {},
   "outputs": [],
   "source": [
    "M = np.array(np.arange(12))\n",
    "print(M)\n",
    "M = np.reshape(M, (3,4))\n",
    "print(M)\n",
    "M = np.reshape(M, (2,2,3))\n",
    "print(M)"
   ]
  },
  {
   "cell_type": "markdown",
   "id": "2d52ed88",
   "metadata": {},
   "source": [
    "### NumPy functions"
   ]
  },
  {
   "cell_type": "markdown",
   "id": "5c6b66f4",
   "metadata": {},
   "source": [
    "Many useful functions are defined in `np` already.\n",
    "\n",
    "**Run the cells below to see some examples.**"
   ]
  },
  {
   "cell_type": "code",
   "execution_count": null,
   "id": "1b605e5e",
   "metadata": {},
   "outputs": [],
   "source": [
    "v1 = np.array([1,2,3])\n",
    "v2 = np.array([4,5,6])\n",
    "M = np.array([[1,2,3],[4,5,6],[7,8,9]])"
   ]
  },
  {
   "cell_type": "code",
   "execution_count": null,
   "id": "e8f2fa42",
   "metadata": {},
   "outputs": [],
   "source": [
    "print(np.min(M))"
   ]
  },
  {
   "cell_type": "code",
   "execution_count": null,
   "id": "b8231ef2",
   "metadata": {},
   "outputs": [],
   "source": [
    "print(np.max(M))"
   ]
  },
  {
   "cell_type": "code",
   "execution_count": null,
   "id": "191a53a6",
   "metadata": {},
   "outputs": [],
   "source": [
    "print(np.sum(v2))\n",
    "print(np.sum(M))"
   ]
  },
  {
   "cell_type": "code",
   "execution_count": null,
   "id": "9409343c",
   "metadata": {},
   "outputs": [],
   "source": [
    "print(np.mean(v2))\n",
    "print(np.mean(M))"
   ]
  },
  {
   "cell_type": "code",
   "execution_count": null,
   "id": "db160b6d",
   "metadata": {},
   "outputs": [],
   "source": [
    "print(np.dot(v1,v2)) # dot (inner) product"
   ]
  },
  {
   "cell_type": "code",
   "execution_count": null,
   "id": "42b27cbf",
   "metadata": {},
   "outputs": [],
   "source": [
    "print(np.outer(v1,v2)) # outer product"
   ]
  },
  {
   "cell_type": "code",
   "execution_count": null,
   "id": "aef6d379",
   "metadata": {},
   "outputs": [],
   "source": [
    "print(np.cross(v1,v2)) # cross product"
   ]
  },
  {
   "cell_type": "code",
   "execution_count": null,
   "id": "de51014a",
   "metadata": {},
   "outputs": [],
   "source": [
    "print(np.dot(M, v1)) # matrix multiply\n",
    "print(np.matmul(M, v1)) # matrix multiply\n",
    "print(M @ v1) # special syntax for matrix multiply"
   ]
  },
  {
   "cell_type": "markdown",
   "id": "49af7b43",
   "metadata": {},
   "source": [
    "Some of these operations can be applied only partially. For example, sums can be taken only along one axis, e.g. summing all the rows of a matrix together.\n",
    "\n",
    "**Try to guess the outputs before running the cells below.**"
   ]
  },
  {
   "cell_type": "code",
   "execution_count": null,
   "id": "f6ed1c2a",
   "metadata": {},
   "outputs": [],
   "source": [
    "print(M)\n",
    "# HINT: axis=0 is rows, axis=1 is columns\n",
    "print(np.sum(M, axis=0)) # GUESS:\n",
    "print(np.sum(M, axis=1)) # GUESS:"
   ]
  },
  {
   "cell_type": "markdown",
   "id": "cc11e429",
   "metadata": {},
   "source": [
    "### Broadcasting"
   ]
  },
  {
   "cell_type": "markdown",
   "id": "19287138",
   "metadata": {},
   "source": [
    "Operations are sometimes (but not always!) defined between arrays with different dimensions. When the dimensions are compatible, operations will occur following the \"broadcasting\" rules. Be very careful if relying on these rules.\n",
    "\n",
    "**TODO: add link to broadcasting rules page.**\n",
    "\n",
    "**Run the cell below to see what happens.**"
   ]
  },
  {
   "cell_type": "code",
   "execution_count": null,
   "id": "cd61c2ec",
   "metadata": {},
   "outputs": [],
   "source": [
    "M = np.array([[1,2],[3,4]])\n",
    "v = np.array([5,6])\n",
    "M * v"
   ]
  },
  {
   "cell_type": "markdown",
   "id": "a586300f",
   "metadata": {},
   "source": [
    "## Submodules\n",
    "\n",
    "Modules can have submodules, which helps organize big libraries.\n",
    "\n",
    "For example, NumPy has a linear algebra submodule, `np.linalg`. Calling functions that live in a submodule looks like:"
   ]
  },
  {
   "cell_type": "code",
   "execution_count": null,
   "id": "f4241f6e",
   "metadata": {},
   "outputs": [],
   "source": [
    "M = np.array([[1,0.1],[0.1,1]])\n",
    "M_inv = np.linalg.inv(M) # matrix inverse\n",
    "M @ M_inv"
   ]
  },
  {
   "cell_type": "markdown",
   "id": "8cc35b89",
   "metadata": {},
   "source": [
    "Another useful example is the `np.random` submodule for (pseudo)random number generators."
   ]
  },
  {
   "cell_type": "code",
   "execution_count": null,
   "id": "0803988d",
   "metadata": {},
   "outputs": [],
   "source": [
    "np.random.seed(123123) # seed the pRNG: same draws every time cell is run\n",
    "print(np.random.rand()) # uniform dist over 0-1\n",
    "print(np.random.rand(5)) # same, but 5 numbers\n",
    "print(np.random.normal(0,1,size=2)) # 2 numbers from normal dist with mean 0, std 1"
   ]
  },
  {
   "cell_type": "markdown",
   "id": "b97d9832",
   "metadata": {},
   "source": [
    "**WARNING:** Some libraries (including NumPy) automatically import all their submodules. However, sometimes (e.g. with `scipy`) you will need to explicitly import the submodules you want to use."
   ]
  },
  {
   "cell_type": "markdown",
   "id": "d47ac5f2",
   "metadata": {},
   "source": [
    "## Matplotlib"
   ]
  },
  {
   "cell_type": "markdown",
   "id": "8cd2f505",
   "metadata": {},
   "source": [
    "`matplotlib` is a library for making plots of data. Like NumPy, it is so standard it might as well be built in to the language, but still must be imported. Standardly, one does:"
   ]
  },
  {
   "cell_type": "code",
   "execution_count": null,
   "id": "a2097076",
   "metadata": {},
   "outputs": [],
   "source": [
    "import matplotlib.pyplot as plt"
   ]
  },
  {
   "cell_type": "markdown",
   "id": "f5d1e8bc",
   "metadata": {},
   "source": [
    "This syntax imports the `matplotlib.pyplot` submodule under the alias `plt`. As with `np`, the `plt` alias is completely standard.\n",
    "\n",
    "**WARNING:** It's very easy to make simple plots with Matplotlib, but customizing these plots (notoriously) requires many specialized commands. Nobody remembers these commands. Just Google, ask ChatGPT, or look at the docs if you want to do something fancy.\n",
    "\n",
    "Matplotlib is nicely integrated with Jupyter. When you generate plots with Matplotlib, they just show up in the notebook.\n",
    "\n",
    "**Run the cells below and see what happens.**"
   ]
  },
  {
   "cell_type": "code",
   "execution_count": null,
   "id": "7744734f",
   "metadata": {},
   "outputs": [],
   "source": [
    "# Basic plot of x vs y\n",
    "x = np.linspace(0,2, 250) # 250 evenly spaced points between 0 and 2\n",
    "y1 = x**2\n",
    "plt.plot(x,y1)\n",
    "y2 = x**3\n",
    "plt.plot(x,y2)"
   ]
  },
  {
   "cell_type": "code",
   "execution_count": null,
   "id": "483b5c30",
   "metadata": {},
   "outputs": [],
   "source": [
    "# Default behavior if only y provided\n",
    "x = np.arange(2,7)\n",
    "print(x)\n",
    "x = x**4 + 2\n",
    "\n",
    "plt.plot(x)\n",
    "# if only one argument provided, assumes it is y data\n",
    "# and assumes x=[0,1,2,...]"
   ]
  },
  {
   "cell_type": "code",
   "execution_count": null,
   "id": "6d32e22a",
   "metadata": {},
   "outputs": [],
   "source": [
    "# Another standard: scatter plots\n",
    "\n",
    "# make fake data\n",
    "n = 100\n",
    "np.random.seed(200)\n",
    "x = np.random.rand(n)\n",
    "y = np.random.normal(0,2, size=n)\n",
    "\n",
    "plt.scatter(x,y)"
   ]
  },
  {
   "cell_type": "code",
   "execution_count": null,
   "id": "c830b101",
   "metadata": {},
   "outputs": [],
   "source": [
    "# Another standard: plots with error bars\n",
    "\n",
    "# make fake noisy data\n",
    "n = 50\n",
    "np.random.seed(12)\n",
    "x = np.linspace(0,2,n)\n",
    "y = x**2 + np.random.uniform(0,0.1, size=n)\n",
    "yerr = 0.1 + np.random.uniform(0,0.1, size=n)\n",
    "\n",
    "plt.errorbar(x=x, y=y, yerr=yerr)"
   ]
  },
  {
   "cell_type": "markdown",
   "id": "3f08857b",
   "metadata": {},
   "source": [
    "# More advanced topics\n",
    "\n",
    "TODO: Boilerplate text that says these can be skipped for time"
   ]
  },
  {
   "cell_type": "markdown",
   "id": "c49fa6cc",
   "metadata": {},
   "source": [
    "## Dictionaries\n",
    "\n",
    "`dict`s are unordered maps between keys and values. They are denoted with `{}`. If you provide a key, it returns the corresponding value. Values can be anything. Keys can be anything \"hashable\", which includes things like numbers, strings, and tuples (but not lists!)."
   ]
  },
  {
   "cell_type": "code",
   "execution_count": null,
   "id": "11ffda5a",
   "metadata": {},
   "outputs": [],
   "source": [
    "d = {1:2, 'x':5, 5:'x'}\n",
    "print(d[1]) # GUESS:\n",
    "print(d[5]) # GUESS:"
   ]
  },
  {
   "cell_type": "markdown",
   "id": "9e03c839",
   "metadata": {},
   "source": [
    "Like a list, a dict is mutable: new `key:value` pairings can be added, and existing ones can be overwritten. Keys are unique: you cannot store multiple different values for the same key."
   ]
  },
  {
   "cell_type": "code",
   "execution_count": null,
   "id": "ce6929f6",
   "metadata": {},
   "outputs": [],
   "source": [
    "d = {} # empty dict\n",
    "d['hi'] = 3\n",
    "print(d['hi']) # GUESS:\n",
    "d['hi'] = (1,2,3)\n",
    "print(d['hi']) # GUESS:"
   ]
  },
  {
   "cell_type": "markdown",
   "id": "a401a2ab",
   "metadata": {},
   "source": [
    "## List (and other) comprehensions\n",
    "\n",
    "A very common pattern is a loop which iterates over all the items in one list while building up a second list. Python has special syntax to do this in one line called a \"list comprehension\".\n",
    "\n",
    "**Run the cells below and see what happens.**"
   ]
  },
  {
   "cell_type": "code",
   "execution_count": null,
   "id": "fffc1290",
   "metadata": {},
   "outputs": [],
   "source": [
    "L1 = [1,2,3,4,5]\n",
    "\n",
    "# accumulator loop version\n",
    "L2 = []\n",
    "for x in L1:\n",
    "    L2.append(x**2+1)\n",
    "print(L2)"
   ]
  },
  {
   "cell_type": "code",
   "execution_count": null,
   "id": "eceab5e1",
   "metadata": {},
   "outputs": [],
   "source": [
    "# equivalent list comprehension\n",
    "L2 = [x**2+1 for x in L1]\n",
    "print(L2)"
   ]
  },
  {
   "cell_type": "markdown",
   "id": "08ad794a",
   "metadata": {},
   "source": [
    "There is additional syntax to filter certain items out of the second list.\n",
    "\n",
    "**Run the cells below and see what happens.**"
   ]
  },
  {
   "cell_type": "code",
   "execution_count": null,
   "id": "7bfdb610",
   "metadata": {},
   "outputs": [],
   "source": [
    "# accumulator loop version\n",
    "L2 = []\n",
    "for x in L1:\n",
    "    if x%2 == 0: # is x even?\n",
    "        L2.append(x**2+1)\n",
    "print(L2)"
   ]
  },
  {
   "cell_type": "code",
   "execution_count": null,
   "id": "74063abc",
   "metadata": {},
   "outputs": [],
   "source": [
    "# equivalent list comprehension\n",
    "L2 = [x**2+1 for x in L1 if x%2==0]\n",
    "print(L2)"
   ]
  },
  {
   "cell_type": "markdown",
   "id": "4d3ec9d0",
   "metadata": {},
   "source": [
    "There is even more syntax which lets you do the equivalent of nested for loops.\n",
    "\n",
    "**Run the cells below and see what happens.**"
   ]
  },
  {
   "cell_type": "code",
   "execution_count": null,
   "id": "9a0f7b3f",
   "metadata": {},
   "outputs": [],
   "source": [
    "# accumulator loop version\n",
    "L2 = []\n",
    "for x in [1,2,3]:\n",
    "    for y in [x,5]:\n",
    "        L2.append(x*y)\n",
    "print(L2)"
   ]
  },
  {
   "cell_type": "code",
   "execution_count": null,
   "id": "341b271e",
   "metadata": {},
   "outputs": [],
   "source": [
    "# equivalent list comprehension\n",
    "L2 = [x*y for x in [1,2,3] for y in [x,5]]\n",
    "print(L2)"
   ]
  },
  {
   "cell_type": "markdown",
   "id": "20772a3d",
   "metadata": {},
   "source": [
    "There is an equivalent construction for building `dict`s called a \"dictionary comprehension\". It can use the same filtering and nesting syntax as a list comprehension.\n",
    "\n",
    "**Run the cells below and see what happens.**"
   ]
  },
  {
   "cell_type": "code",
   "execution_count": null,
   "id": "452d2168",
   "metadata": {},
   "outputs": [],
   "source": [
    "L1 = [1,3,5]\n",
    "\n",
    "# accumulator loop version\n",
    "d = {}\n",
    "for x in L1:\n",
    "    d[x] = x**2\n",
    "print(d)"
   ]
  },
  {
   "cell_type": "code",
   "execution_count": null,
   "id": "6cbf52a4",
   "metadata": {},
   "outputs": [],
   "source": [
    "# equivalent dict comprehension\n",
    "d = {x : x**2 for x in L1}\n",
    "print(d)"
   ]
  },
  {
   "cell_type": "markdown",
   "id": "e3f97285",
   "metadata": {},
   "source": [
    "## f strings\n",
    "\n",
    "Often we want to print out variables or expressions with some additional text around it. Python has special syntax to make code for this cleaner, f strings. These look like `f\"...{some_expr}...\"`. When run, Python automatically evaluates `some_expr`, turns its return value into a string, then substitutes it in for `{some_expr}`.\n",
    "\n",
    "**Run the cells below and see what happens.**"
   ]
  },
  {
   "cell_type": "code",
   "execution_count": null,
   "id": "5a2759a2",
   "metadata": {},
   "outputs": [],
   "source": [
    "x = 5\n",
    "y = 7\n",
    "print(\"x =\", x, \"and y =\", y, \"so x*y =\", x*y)"
   ]
  },
  {
   "cell_type": "code",
   "execution_count": null,
   "id": "5ad8535b",
   "metadata": {},
   "outputs": [],
   "source": [
    "# f string version\n",
    "print(f\"x = {x} and y = {y} so x*y = {x*y}\")"
   ]
  },
  {
   "cell_type": "code",
   "execution_count": null,
   "id": "8ddeb7bd",
   "metadata": {},
   "outputs": [],
   "source": [
    "# NOTE: no automatic updating!\n",
    "x = 4\n",
    "y = 7\n",
    "s1 = f\"x = {x} and y = {y} so x*y = {x*y}\"\n",
    "y = 5\n",
    "print(s1)"
   ]
  }
 ],
 "metadata": {
  "kernelspec": {
   "display_name": "Python 3 (ipykernel)",
   "language": "python",
   "name": "python3"
  },
  "language_info": {
   "codemirror_mode": {
    "name": "ipython",
    "version": 3
   },
   "file_extension": ".py",
   "mimetype": "text/x-python",
   "name": "python",
   "nbconvert_exporter": "python",
   "pygments_lexer": "ipython3",
   "version": "3.9.12"
  },
  "toc": {
   "base_numbering": 1,
   "nav_menu": {},
   "number_sections": true,
   "sideBar": true,
   "skip_h1_title": false,
   "title_cell": "Table of Contents",
   "title_sidebar": "Contents",
   "toc_cell": false,
   "toc_position": {},
   "toc_section_display": true,
   "toc_window_display": false
  }
 },
 "nbformat": 4,
 "nbformat_minor": 5
}
