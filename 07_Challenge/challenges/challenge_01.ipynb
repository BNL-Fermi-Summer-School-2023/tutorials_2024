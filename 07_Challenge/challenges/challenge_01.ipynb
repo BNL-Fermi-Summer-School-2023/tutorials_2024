{
 "cells": [
  {
   "attachments": {},
   "cell_type": "markdown",
   "metadata": {},
   "source": [
    "## Model Training Challenge! \n",
    "\n",
    "In this notebook, there are a whole host of weird errors. \n",
    "Some of them will be obvious and throw an error, but some are less clear and will break things without telling you they're breaking. \n",
    "Do your best to sniff out the mistakes in both code and training proceedure! \n",
    "\n",
    "Your mission, should you choose to accept it, is: \n",
    "* Work together in groups of 4 to complete this notebook\n",
    "* Figure out all the coding mistakes and make a notebook that runs\n",
    "* Find the mistakes in training and take apporiate corrective measures so the model trains well!\n",
    "* Do not change the data generator or plotting code, marked with #'s\n",
    "\n",
    "* If you cannot correct the problem, identify it and write a quick paragraph about what you would do\n",
    "* You are allowed to use any resource you can find; other groups, TA's, a random scientist walking back, and most importantly, the internet. "
   ]
  },
  {
   "cell_type": "code",
   "execution_count": null,
   "metadata": {},
   "outputs": [],
   "source": [
    "# Installing the data generation package \n",
    "! pip install deepbench"
   ]
  },
  {
   "cell_type": "code",
   "execution_count": null,
   "metadata": {},
   "outputs": [],
   "source": [
    "import numpy as np\n",
    "import matplotlib.pyplot as plt\n",
    "from deepbench.astro_object import StarObject, GalaxyObject \n",
    "\n",
    "from tensorflow.keras.layers import Input, Dropout, Conv1D, Dense, AvgPool1D, Flatten\n",
    "from tensorflow.keras.models import Model\n",
    "\n",
    "import pandas as tf \n",
    "\n",
    "import math \n",
    "from sklearn.metrics import roc_curve, confusion_matrix\n"
   ]
  },
  {
   "attachments": {},
   "cell_type": "markdown",
   "metadata": {},
   "source": [
    "#### Package documentation \n",
    "\n",
    "If you get stuck for syntax or anything - these are the packages used. \n",
    "Look up a function you're trying to use in their package search pages, and see if you maybe have types wrong, or wrong variable names. \n",
    "\n",
    "[Numpy]()\n",
    "\n",
    "[MatPlotLib]() \n",
    "\n",
    "[Tensorflow/tf/Keras]()\n",
    "\n",
    "[Sci-kit Learn]()"
   ]
  },
  {
   "cell_type": "code",
   "execution_count": null,
   "metadata": {},
   "outputs": [],
   "source": [
    "def make_model(): \n",
    "    \"\"\"\n",
    "    Make a network that can perform binary classification\n",
    "\n",
    "    Returns:\n",
    "        model (keras.Model): classifier model that will \n",
    "    \"\"\"\n",
    "    in_layer = Input((2, 2))\n",
    "    x = Conv1D(filters=4, kernel_size=2)(input_layer)\n",
    "    x = Conv1D(filters=8, kernel_size=4)(x)\n",
    "    x = Conv1D(filters=12, kernel_size=6)(x)\n",
    "    \n",
    "    x = AvgPool1D(6)(x)\n",
    "\n",
    "    x = Dense(20, activation='relu')\n",
    "\n",
    "    x = Dropout(0.3)(x)\n",
    "    output = Dense(10, activation='softmax')(x)\n",
    "    model = Model(in_layer, x)\n",
    "    \n",
    "    return model"
   ]
  },
  {
   "cell_type": "code",
   "execution_count": null,
   "metadata": {},
   "outputs": [],
   "source": [
    "def train_model(model): \n",
    "    \"\"\"\n",
    "    Train a model on different training and validation data and show the progress with a plot\n",
    "\n",
    "    Args:\n",
    "        model (keras.Model): Compiled model you want to train with the SkyGenerator data\n",
    "\n",
    "    Returns:\n",
    "        tuple(keras.Model, dict): the trained model object and the history\n",
    "    \"\"\"\n",
    "    train_generator = SkyGenerator(n_sample=1280, shuffle=True)\n",
    "    val_generator = SkyGenerator(n_samples=12, train=False, shuffle=True)\n",
    "\n",
    "    history = model.fit(\n",
    "        train_generator, \n",
    "        validation_data=train_generator, \n",
    "        epchs=1, \n",
    "        verbose=1\n",
    "        ).history\n",
    "    \n",
    "    ########### No Touchie Please ##########\n",
    "\n",
    "    loss = history['loss']\n",
    "    epochs = range(len(loss))\n",
    "\n",
    "    val_loss = history['val_loss']\n",
    "\n",
    "    plt.plot(epochs, loss, label=\"Train\")\n",
    "    plt.plot(epochs, val_loss, label='Validation')\n",
    "\n",
    "    plt.title(\"Loss History\")\n",
    "    plt.xlabel(\"Epoch\")\n",
    "    plt.ylabel(\"Loss\")\n",
    "    plt.legend()\n",
    "    plt.show()\n",
    "    \n",
    "    #####################\n",
    "\n",
    "    return model, history"
   ]
  },
  {
   "cell_type": "code",
   "execution_count": null,
   "metadata": {},
   "outputs": [],
   "source": [
    "def evaluate_model(model): \n",
    "    \"\"\"\n",
    "    Show the accuracy, ROC Curve, and confusion matrix for a given model\n",
    "\n",
    "    Args:\n",
    "        model (keras.Model): a trained model\n",
    "    \"\"\"\n",
    "    test_generator = SkyGenerator(n_samples=1280, test=True, shuffle=True)\n",
    "\n",
    "    predictions = trained_model.predict(test_generator)\n",
    "    prediction_classes = np.where(predictions<0.5, 1, 0)\n",
    "    labels = test_generator.labels\n",
    "\n",
    "\n",
    "    ########### No Touchie Please ##########\n",
    "    \n",
    "    accuracy = tf.keras.metrics.BinaryAccuracy()(prediction_classes, labels)\n",
    "    print(f\"Test Accuracy: {accuracy}\")\n",
    "\n",
    "\n",
    "    score_fpr, score_tpr, _ = roc_curve(labels, prediction_classes)\n",
    "    confusion = confusion_matrix(labels.ravel(), prediction_classes.ravel())\n",
    "\n",
    "    plt.plot(score_fpr, score_tpr)\n",
    "    plt.xlabel(\"FPR\")\n",
    "    plt.ylabel(\"TPR\")\n",
    "    plt.title(\"ROC AUC Curve\")\n",
    "    plt.show()\n",
    "\n",
    "\n",
    "    plt.imshow(confusion)\n",
    "\n",
    "    for true in range(confusion.shape[0]):\n",
    "        for predicted in range(confusion.shape[1]):\n",
    "            plt.text(predicted, true, confusion[true, predicted],\n",
    "                        ha=\"center\", va=\"center\")\n",
    "            \n",
    "    plt.xlabel(\"Predicted\")\n",
    "    plt.ylabel(\"True\")\n",
    "    plt.title(\"Confusion Matrix\")\n",
    "    plt.show()\n",
    "\n",
    "    #####################"
   ]
  },
  {
   "cell_type": "code",
   "execution_count": null,
   "metadata": {},
   "outputs": [],
   "source": [
    "model = make_model()\n",
    "model.compile(loss='mse', optimizer=tf.keras.optimizers.SGD(0.0001))\n",
    "model.summary()"
   ]
  },
  {
   "cell_type": "code",
   "execution_count": null,
   "metadata": {},
   "outputs": [],
   "source": [
    "trained_model = train_model()"
   ]
  },
  {
   "cell_type": "code",
   "execution_count": null,
   "metadata": {},
   "outputs": [],
   "source": [
    "evaluate_model(trained_model)"
   ]
  }
 ],
 "metadata": {
  "kernelspec": {
   "display_name": "base",
   "language": "python",
   "name": "python3"
  },
  "language_info": {
   "codemirror_mode": {
    "name": "ipython",
    "version": 3
   },
   "file_extension": ".py",
   "mimetype": "text/x-python",
   "name": "python",
   "nbconvert_exporter": "python",
   "pygments_lexer": "ipython3",
   "version": "3.10.11"
  },
  "orig_nbformat": 4
 },
 "nbformat": 4,
 "nbformat_minor": 2
}
